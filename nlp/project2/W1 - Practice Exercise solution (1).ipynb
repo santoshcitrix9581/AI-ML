{
 "cells": [
  {
   "cell_type": "markdown",
   "metadata": {
    "_uuid": "3c77d7291ae3aff7ea714d3b19d708d455de016c",
    "colab_type": "text",
    "id": "lSY4R5Pa4Zs2"
   },
   "source": [
    "We cannot work with the text data in machine learning so we need to convert them into numerical vectors, As a part of this practice exercise you will implement different techniques to do the same."
   ]
  },
  {
   "cell_type": "markdown",
   "metadata": {
    "_uuid": "4b77a3ffeea9399d8ff4ed783b11d325c8a47ba7",
    "colab_type": "text",
    "id": "MnEqJoGl4Zs4"
   },
   "source": [
    "In this notebook we are going to understand some basic text cleaning steps and techniques for encoding text data. We are going to learn about\n",
    "1. **Understanding the data** - See what's data is all about. what should be considered for cleaning for data (Punctuations , stopwords etc..).\n",
    "2. **Basic Cleaning** -We will see what parameters need to be considered for cleaning of data (like Punctuations , stopwords etc..)  and its code.\n",
    "3. **Techniques for Encoding** - All the popular techniques that are used for encoding that I personally came across.\n",
    "    *           **Bag of Words**\n",
    "    *           **Binary Bag of Words**\n",
    "    *           **Bigram, Ngram**\n",
    "    *           **TF-IDF**( **T**erm  **F**requency - **I**nverse **D**ocument **F**requency)\n"
   ]
  },
  {
   "cell_type": "markdown",
   "metadata": {
    "_uuid": "3e9b8360f72e16b27f4ba5e353d412900fc4d5be",
    "colab_type": "text",
    "id": "jplSqGVx4Zs5"
   },
   "source": [
    " **Importing Libraries**"
   ]
  },
  {
   "cell_type": "markdown",
   "metadata": {
    "colab_type": "text",
    "id": "kjyMG_z46P9b"
   },
   "source": [
    "Libraries used in this notebook along with their version:\n",
    "\n",
    "google\t2.0.3\n",
    "\n",
    "nltk\t3.2.5\n",
    "\n",
    "numpy\t1.18.3\n",
    "\n",
    "pandas\t1.0.3"
   ]
  },
  {
   "cell_type": "code",
   "execution_count": 2,
   "metadata": {
    "colab": {
     "base_uri": "https://localhost:8080/",
     "height": 122
    },
    "colab_type": "code",
    "executionInfo": {
     "elapsed": 113966,
     "status": "ok",
     "timestamp": 1588599331838,
     "user": {
      "displayName": "Mansoor Rahimat Khan",
      "photoUrl": "",
      "userId": "09687443316707549268"
     },
     "user_tz": -330
    },
    "id": "cofXbSj7IYdd",
    "outputId": "d5840101-2047-44a5-cd20-1376609a72fb"
   },
   "outputs": [
    {
     "name": "stdout",
     "output_type": "stream",
     "text": [
      "Go to this URL in a browser: https://accounts.google.com/o/oauth2/auth?client_id=947318989803-6bn6qk8qdgf4n4g3pfee6491hc0brc4i.apps.googleusercontent.com&redirect_uri=urn%3aietf%3awg%3aoauth%3a2.0%3aoob&response_type=code&scope=email%20https%3a%2f%2fwww.googleapis.com%2fauth%2fdocs.test%20https%3a%2f%2fwww.googleapis.com%2fauth%2fdrive%20https%3a%2f%2fwww.googleapis.com%2fauth%2fdrive.photos.readonly%20https%3a%2f%2fwww.googleapis.com%2fauth%2fpeopleapi.readonly\n",
      "\n",
      "Enter your authorization code:\n",
      "··········\n",
      "Mounted at /content/drive\n"
     ]
    }
   ],
   "source": [
    "from google.colab import drive\n",
    "drive.mount('/content/drive')"
   ]
  },
  {
   "cell_type": "code",
   "execution_count": 0,
   "metadata": {
    "_cell_guid": "b1076dfc-b9ad-4769-8c92-a6c4dae69d19",
    "_uuid": "8f2839f25d086af736a60e9eeb907d3b93b6e0e5",
    "colab": {},
    "colab_type": "code",
    "id": "wzMiuH0-4Zs7"
   },
   "outputs": [],
   "source": [
    "import numpy as np                                  #for large and multi-dimensional arrays\n",
    "import pandas as pd                                 #for data manipulation and analysis\n",
    "import nltk                                         #Natural language processing tool-kit\n",
    "\n",
    "from nltk.corpus import stopwords                   #Stopwords corpus\n",
    "from nltk.stem import PorterStemmer                 # Stemmer\n",
    "\n",
    "from sklearn.feature_extraction.text import CountVectorizer          #For Bag of words\n",
    "from sklearn.feature_extraction.text import TfidfVectorizer          #For TF-IDF"
   ]
  },
  {
   "cell_type": "code",
   "execution_count": 0,
   "metadata": {
    "_cell_guid": "79c7e3d0-c299-4dcb-8224-4455121ee9b0",
    "_uuid": "d629ff2d2480ee46fbb7e2d37f6b5fab8052498a",
    "colab": {},
    "colab_type": "code",
    "id": "0PhyuikW4Zs_"
   },
   "outputs": [],
   "source": [
    "data_path = \"Reviews.csv\"\n",
    "data = pd.read_csv(data_path)\n",
    "data_sel = data.head(10000)                                #Considering only top 10000 rows"
   ]
  },
  {
   "cell_type": "code",
   "execution_count": 6,
   "metadata": {
    "_uuid": "b861545a58f30384891126cf8a9f576db40e1a30",
    "colab": {
     "base_uri": "https://localhost:8080/",
     "height": 68
    },
    "colab_type": "code",
    "executionInfo": {
     "elapsed": 946,
     "status": "ok",
     "timestamp": 1588599390898,
     "user": {
      "displayName": "Mansoor Rahimat Khan",
      "photoUrl": "",
      "userId": "09687443316707549268"
     },
     "user_tz": -330
    },
    "id": "1yNhx3Wb4ZtC",
    "outputId": "c972c8e0-d0c4-4159-e17e-8bab8c115831"
   },
   "outputs": [
    {
     "data": {
      "text/plain": [
       "Index(['Id', 'ProductId', 'UserId', 'ProfileName', 'HelpfulnessNumerator',\n",
       "       'HelpfulnessDenominator', 'Score', 'Time', 'Summary', 'Text'],\n",
       "      dtype='object')"
      ]
     },
     "execution_count": 6,
     "metadata": {
      "tags": []
     },
     "output_type": "execute_result"
    }
   ],
   "source": [
    "# Shape of our data\n",
    "data_sel.columns"
   ]
  },
  {
   "cell_type": "markdown",
   "metadata": {
    "_uuid": "8e77faa28f4d4807e716f4bff26f8ff49c3fb2bd",
    "colab_type": "text",
    "id": "0A1RO0fw4ZtI"
   },
   "source": [
    "1. **Understanding the data**\n",
    "\n",
    "Our main objective from the dataset is to predict whether a review is **Positive** or **Negative** based on the Text.\n",
    " \n",
    "If we see the Score column, it has values 1,2,3,4,5 .  Considering 1, 2 as Negative reviews and 4, 5 as Positive reviews.\n",
    " For Score = 3 we will consider it as Neutral review and lets delete the rows that are neutral, so that we can predict either Positive or Negative\n",
    " \n",
    "HelpfulnessNumerator says about number of people found that review usefull and HelpfulnessDenominator is about usefull review count + not so usefull count.\n",
    "So, from this we can see that HelfulnessNumerator is always less than or equal to HelpfulnesDenominator."
   ]
  },
  {
   "cell_type": "code",
   "execution_count": 0,
   "metadata": {
    "_uuid": "0a77d47e68efd6859d84e6dc7c813ee5b680adaf",
    "colab": {},
    "colab_type": "code",
    "id": "64ZQiqYB4ZtJ"
   },
   "outputs": [],
   "source": [
    "# Write the code to remove all the rows from the dataset that have neutral review ie. Score value as 3\n",
    "\n",
    "data_score_removed = data_sel[data_sel['Score']!=3]       #Neutral reviews removed"
   ]
  },
  {
   "cell_type": "markdown",
   "metadata": {
    "_uuid": "26eda6bf2503287bf92a5b3139fa3d7a9dd8b101",
    "colab_type": "text",
    "id": "Yn9k5hzP4ZtM"
   },
   "source": [
    "Converting Score values into class label either Positive or Negative."
   ]
  },
  {
   "cell_type": "code",
   "execution_count": 8,
   "metadata": {
    "_uuid": "a2b51786e7a6da8f9ef8f66d98ccf3069540ce0e",
    "colab": {
     "base_uri": "https://localhost:8080/",
     "height": 139
    },
    "colab_type": "code",
    "executionInfo": {
     "elapsed": 946,
     "status": "ok",
     "timestamp": 1588599394366,
     "user": {
      "displayName": "Mansoor Rahimat Khan",
      "photoUrl": "",
      "userId": "09687443316707549268"
     },
     "user_tz": -330
    },
    "id": "15J6vNEN4ZtN",
    "outputId": "f2afd917-5bff-47c2-ce5e-f5f7d8410e50"
   },
   "outputs": [
    {
     "name": "stderr",
     "output_type": "stream",
     "text": [
      "/usr/local/lib/python3.6/dist-packages/ipykernel_launcher.py:9: SettingWithCopyWarning: \n",
      "A value is trying to be set on a copy of a slice from a DataFrame.\n",
      "Try using .loc[row_indexer,col_indexer] = value instead\n",
      "\n",
      "See the caveats in the documentation: https://pandas.pydata.org/pandas-docs/stable/user_guide/indexing.html#returning-a-view-versus-a-copy\n",
      "  if __name__ == '__main__':\n"
     ]
    }
   ],
   "source": [
    "# Write the code to replace the values of Score column with \"positive\" or \"Negative\" depending on the Score value\n",
    "\n",
    "def partition(x):\n",
    "    if x < 3:\n",
    "        return 'positive'\n",
    "    return 'negative'\n",
    "\n",
    "score_upd = data_score_removed['Score']\n",
    "t = score_upd.map(partition)\n",
    "data_score_removed['Score']=t"
   ]
  },
  {
   "cell_type": "markdown",
   "metadata": {
    "_uuid": "11da101e437e715e7e900eae0daf683fa5129140",
    "colab_type": "text",
    "id": "44rlIgeA4ZtR"
   },
   "source": [
    "2. **Basic Cleaning**\n",
    " \n",
    "**Deduplication** means removing duplicate rows, It is necessary to remove duplicates in order to get unbaised results. Checking duplicates based on UserId, ProfileName, Time, Text. If all these values are equal then we will remove those records. (No user can type a review on same exact time for different products.)\n",
    "\n",
    "\n",
    "We have seen that HelpfulnessNumerator should always be less than or equal to HelpfulnessDenominator so checking this condition and removing those records also.\n"
   ]
  },
  {
   "cell_type": "code",
   "execution_count": 0,
   "metadata": {
    "_uuid": "90a6d730b53f4b371409fff116025e2fd29ebf5a",
    "colab": {},
    "colab_type": "code",
    "id": "LAwdAyFu4ZtS"
   },
   "outputs": [],
   "source": [
    "# Write the code to remove dulicates from the data and remove the rows where HelpfulnessNumerator is greater than \n",
    "# HelpfulnessDenominator. Store the resultant in a dataframe variable called \"final\"\n",
    "\n",
    "\n",
    "final_data = data_score_removed.drop_duplicates(subset={\"UserId\",\"ProfileName\",\"Time\",\"Text\"})\n",
    "\n",
    "final = final_data[final_data['HelpfulnessNumerator'] <= final_data['HelpfulnessDenominator']]"
   ]
  },
  {
   "cell_type": "code",
   "execution_count": 0,
   "metadata": {
    "_uuid": "61e8f9671ad79b0b3e5eb15953ac76e15e216e84",
    "colab": {},
    "colab_type": "code",
    "id": "AtudYJFM4ZtW"
   },
   "outputs": [],
   "source": [
    "final_X = final['Text']\n",
    "final_y = final['Score']"
   ]
  },
  {
   "cell_type": "markdown",
   "metadata": {
    "_uuid": "1b0ead76f4f3eeb725cdad927053df4bda1efea3",
    "colab_type": "text",
    "id": "4duJnJXk4Ztb"
   },
   "source": [
    "Converting all words to lowercase and removing punctuations and html tags if any\n",
    "\n",
    "**Stemming**- Converting the words into their base word or stem word ( Ex - tastefully, tasty,  these words are converted to stem word called 'tasti'). This reduces the vector dimension because we dont consider all similar words  \n",
    "\n",
    "**Stopwords** - Stopwords are the unnecessary words that even if they are removed the sentiment of the sentence dosent change.\n",
    "\n",
    "Ex -    This pasta is so tasty ==> pasta tasty    ( This , is, so are stopwords so they are removed)\n",
    "\n",
    "To see all the stopwords see the below code cell."
   ]
  },
  {
   "cell_type": "code",
   "execution_count": 11,
   "metadata": {
    "colab": {
     "base_uri": "https://localhost:8080/",
     "height": 68
    },
    "colab_type": "code",
    "executionInfo": {
     "elapsed": 1009,
     "status": "ok",
     "timestamp": 1588599400235,
     "user": {
      "displayName": "Mansoor Rahimat Khan",
      "photoUrl": "",
      "userId": "09687443316707549268"
     },
     "user_tz": -330
    },
    "id": "CufglN3LFlCS",
    "outputId": "82a0eecb-b26b-48b2-8084-574c7ca2ad32"
   },
   "outputs": [
    {
     "name": "stdout",
     "output_type": "stream",
     "text": [
      "[nltk_data] Downloading package stopwords to /root/nltk_data...\n",
      "[nltk_data]   Unzipping corpora/stopwords.zip.\n"
     ]
    },
    {
     "data": {
      "text/plain": [
       "True"
      ]
     },
     "execution_count": 11,
     "metadata": {
      "tags": []
     },
     "output_type": "execute_result"
    }
   ],
   "source": [
    "import nltk\n",
    "nltk.download('stopwords')"
   ]
  },
  {
   "cell_type": "code",
   "execution_count": 12,
   "metadata": {
    "_uuid": "3ab617bd0129fd68f13d2de64fc31f0395e052d8",
    "colab": {
     "base_uri": "https://localhost:8080/",
     "height": 54
    },
    "colab_type": "code",
    "executionInfo": {
     "elapsed": 825,
     "status": "ok",
     "timestamp": 1588599400236,
     "user": {
      "displayName": "Mansoor Rahimat Khan",
      "photoUrl": "",
      "userId": "09687443316707549268"
     },
     "user_tz": -330
    },
    "id": "6ySCr71W4Zte",
    "outputId": "03559bb4-9992-4284-c8ac-7079248515cc",
    "scrolled": true
   },
   "outputs": [
    {
     "name": "stdout",
     "output_type": "stream",
     "text": [
      "{\"you've\", 'y', 'yourselves', 'had', 'after', 'will', 'ain', 's', 'as', 'when', 'under', 'now', \"mightn't\", 'was', \"wasn't\", \"you're\", 'were', 'once', 'to', 'mightn', 'no', 'other', 'weren', 'ours', 'how', \"mustn't\", \"haven't\", 'didn', 'during', \"don't\", 'whom', 'such', 'should', 'our', 'yourself', 'your', \"it's\", 'nor', 'of', 'doing', \"shan't\", 'd', 'why', 'll', 'his', 'isn', 'are', 'about', 'aren', 'just', 'shouldn', \"weren't\", 'through', 'me', 'some', 'in', 'same', 'he', \"didn't\", 'before', \"you'd\", 'hers', 'while', 'up', 'this', 'is', \"needn't\", 'a', 'couldn', 'have', 'if', 'both', \"won't\", 'above', 'below', 'on', 'further', \"you'll\", 'ma', 'him', 'or', 'where', 've', \"that'll\", 'until', 'has', 'been', 'don', 'than', 'because', 'them', 'these', 'between', 'itself', 'and', \"isn't\", 't', 'hasn', 'my', 'himself', \"she's\", 're', 'its', 'do', 'being', 'any', 'themselves', 'be', 'again', 'needn', 'so', 'for', 'out', \"aren't\", 'doesn', 'down', 'who', 'hadn', \"hadn't\", \"wouldn't\", 'wasn', 'all', 'ourselves', 'her', 'an', 'it', 'against', 'which', 'you', 'herself', 'over', 'they', \"couldn't\", 'few', 'she', 'mustn', 'yours', 'can', 'm', 'there', 'not', 'very', \"doesn't\", 'does', 'what', 'those', \"hasn't\", 'o', 'from', 'most', 'won', 'myself', 'that', 'by', 'i', 'am', 'then', 'their', \"shouldn't\", 'at', 'into', 'off', 'haven', 'each', 'having', 'did', 'the', \"should've\", 'we', 'too', 'wouldn', 'here', 'theirs', 'own', 'only', 'with', 'more', 'but', 'shan'}\n"
     ]
    }
   ],
   "source": [
    "stop = set(stopwords.words('english')) \n",
    "print(stop)"
   ]
  },
  {
   "cell_type": "markdown",
   "metadata": {
    "colab_type": "text",
    "id": "LTeA9gr-4Ztj"
   },
   "source": [
    "For each sentence in final_X perform the following operations in sequence\n",
    "* Convert each character in a sentence to lowercase character\n",
    "* Remove HTML Tags\n",
    "* Remove punctuations\n",
    "* Remove stopwords\n",
    "* Stem each word using SnowballStemmer in nltk library\n",
    "\n",
    "Hint: \n",
    "* Use regular expressions\n",
    "* Use nltk.stem.SnowballStemmer"
   ]
  },
  {
   "cell_type": "code",
   "execution_count": 0,
   "metadata": {
    "_uuid": "9a82923d71ffb9e08b70fbe21c811a487e41c72a",
    "colab": {},
    "colab_type": "code",
    "id": "g6P7RGWc4Ztk"
   },
   "outputs": [],
   "source": [
    "# Solution\n",
    "\n",
    "import re\n",
    "temp =[]\n",
    "snow = nltk.stem.SnowballStemmer('english')\n",
    "for sentence in final_X:\n",
    "    sentence = sentence.lower()                 # Converting to lowercase\n",
    "    cleanr = re.compile('<.*?>')\n",
    "    sentence = re.sub(cleanr, ' ', sentence)        #Removing HTML tags\n",
    "    sentence = re.sub(r'[?|!|\\'|\"|#]',r'',sentence)\n",
    "    sentence = re.sub(r'[.|,|)|(|\\|/]',r' ',sentence)        #Removing Punctuations\n",
    "    \n",
    "    words = [snow.stem(word) for word in sentence.split() if word not in stopwords.words('english')]   # Stemming and removing stopwords\n",
    "    temp.append(words)\n",
    "    \n",
    "final_X = temp    "
   ]
  },
  {
   "cell_type": "code",
   "execution_count": 14,
   "metadata": {
    "_uuid": "94dffc6951e46f0e9794dbabe3432344ed95b800",
    "colab": {
     "base_uri": "https://localhost:8080/",
     "height": 54
    },
    "colab_type": "code",
    "executionInfo": {
     "elapsed": 73507,
     "status": "ok",
     "timestamp": 1588599473646,
     "user": {
      "displayName": "Mansoor Rahimat Khan",
      "photoUrl": "",
      "userId": "09687443316707549268"
     },
     "user_tz": -330
    },
    "id": "D_jRHjL84Ztn",
    "outputId": "c1c4a249-bbda-4cbf-84c6-5482a30855a4"
   },
   "outputs": [
    {
     "name": "stdout",
     "output_type": "stream",
     "text": [
      "['product', 'arriv', 'label', 'jumbo', 'salt', 'peanut', 'peanut', 'actual', 'small', 'size', 'unsalt', 'sure', 'error', 'vendor', 'intend', 'repres', 'product', 'jumbo']\n"
     ]
    }
   ],
   "source": [
    "print(final_X[1])"
   ]
  },
  {
   "cell_type": "code",
   "execution_count": 15,
   "metadata": {
    "_uuid": "c9d7c746dae70cb28d489f5f239a8e1e5b46ed1b",
    "colab": {
     "base_uri": "https://localhost:8080/",
     "height": 34
    },
    "colab_type": "code",
    "executionInfo": {
     "elapsed": 73354,
     "status": "ok",
     "timestamp": 1588599473646,
     "user": {
      "displayName": "Mansoor Rahimat Khan",
      "photoUrl": "",
      "userId": "09687443316707549268"
     },
     "user_tz": -330
    },
    "id": "SgaPKxXn4Zts",
    "outputId": "6162e044-f479-49c9-83ca-6405ebc357c9"
   },
   "outputs": [
    {
     "name": "stdout",
     "output_type": "stream",
     "text": [
      " product arriv label jumbo salt peanut peanut actual small size unsalt sure error vendor intend repres product jumbo\n"
     ]
    }
   ],
   "source": [
    "sent = []\n",
    "for row in final_X:\n",
    "    sequ = ''\n",
    "    for word in row:\n",
    "        sequ = sequ + ' ' + word\n",
    "    sent.append(sequ)\n",
    "\n",
    "final_X = sent\n",
    "print(final_X[1])"
   ]
  },
  {
   "cell_type": "markdown",
   "metadata": {
    "_uuid": "67431e1466aefbba119b54205893dd0dcdff9f3b",
    "colab_type": "text",
    "id": "-ZTp3zY-4Ztw"
   },
   "source": [
    "3. **Techniques for Encoding**\n",
    "\n",
    "      **BAG OF WORDS**\n",
    "      \n",
    "      In BoW we construct a dictionary that contains set of all unique words from our text review dataset.The frequency of the word is counted here. if there are **d** unique words in our dictionary then for every sentence or review the vector will be of length **d** and count of word from review is stored at its particular location in vector. The vector will be highly sparse in such case.\n",
    "      \n",
    "      Ex. pasta is tasty and pasta is good\n",
    "      \n",
    "     **[0]....[1]............[1]...........[2]..........[2]............[1]..........**             <== Its vector representation ( remaining all dots will be represented as zeroes)\n",
    "     \n",
    "     **[a]..[and].....[good].......[is].......[pasta]....[tasty].......**            <==This is dictionary\n",
    "      .\n",
    "      \n",
    "    Using scikit-learn's CountVectorizer we can get the BoW and check out all the parameters it consists of, one of them is max_features =5000 it tells about to consider only top 5000 most frequently repeated words to place in a dictionary. so our dictionary length or vector length will be only 5000\n",
    "    \n",
    "\n",
    "\n",
    "   **BINARY BAG OF WORDS**\n",
    "    \n",
    "   In binary BoW, we dont count the frequency of word, we just place **1** if the word appears in the review or else **0**. In CountVectorizer there is a parameter **binary = true** this makes our BoW to binary BoW.\n",
    "   \n",
    "  "
   ]
  },
  {
   "cell_type": "code",
   "execution_count": 16,
   "metadata": {
    "_uuid": "a640c6fb9a16e4f0e271c1a101411af2d053fca3",
    "colab": {
     "base_uri": "https://localhost:8080/",
     "height": 272
    },
    "colab_type": "code",
    "executionInfo": {
     "elapsed": 73372,
     "status": "ok",
     "timestamp": 1588599473938,
     "user": {
      "displayName": "Mansoor Rahimat Khan",
      "photoUrl": "",
      "userId": "09687443316707549268"
     },
     "user_tz": -330
    },
    "id": "hkCNzOuN4Ztx",
    "outputId": "1444d6e3-283a-4656-f57b-4474f046e0f1",
    "scrolled": true
   },
   "outputs": [
    {
     "name": "stdout",
     "output_type": "stream",
     "text": [
      "  (0, 3432)\t2\n",
      "  (0, 332)\t1\n",
      "  (0, 2493)\t1\n",
      "  (0, 2420)\t2\n",
      "  (0, 3770)\t1\n",
      "  (0, 3219)\t2\n",
      "  (0, 162)\t1\n",
      "  (0, 4013)\t1\n",
      "  (0, 3980)\t1\n",
      "  (0, 4676)\t1\n",
      "  (0, 4314)\t1\n",
      "  (0, 1539)\t1\n",
      "  (0, 4734)\t1\n",
      "  (0, 2326)\t1\n",
      "  (0, 3641)\t1\n"
     ]
    }
   ],
   "source": [
    "# Here we use the CountVectorizer from sklearn to create bag of words\n",
    "count_vect = CountVectorizer(max_features=5000)\n",
    "bow_data = count_vect.fit_transform(final_X)\n",
    "print(bow_data[1])"
   ]
  },
  {
   "cell_type": "markdown",
   "metadata": {
    "_uuid": "da9a72410e69708650ccf3263fea6d9b1222147f",
    "colab_type": "text",
    "id": "Sd74HLAv4Zt1"
   },
   "source": [
    " **Drawbacks of BoW/ Binary BoW**\n",
    " \n",
    " Our main objective in doing these text to vector encodings is that similar meaning text vectors should be close to each other, but in some cases this may not possible for Bow\n",
    " \n",
    "For example, if we consider two reviews **This pasta is very tasty** and **This pasta is not tasty** after stopwords removal both sentences will be converted to **pasta tasty** so both giving exact same meaning.\n",
    "\n",
    "The main problem is here we are not considering the front and back words related to every word, here comes Bigram and Ngram techniques."
   ]
  },
  {
   "cell_type": "markdown",
   "metadata": {
    "_uuid": "a8c25fa64918f9b5129ca8d424684354c29f041d",
    "colab_type": "text",
    "id": "3fUU4t5M4Zt2"
   },
   "source": [
    "**BI-GRAM BOW**\n",
    "\n",
    "Considering pair of words for creating dictionary is Bi-Gram , Tri-Gram means three consecutive words so as NGram.\n",
    "\n",
    "CountVectorizer has a parameter **ngram_range** if assigned to (1,2) it considers Bi-Gram BoW\n",
    "\n",
    "But this massively increases our dictionary size "
   ]
  },
  {
   "cell_type": "code",
   "execution_count": 0,
   "metadata": {
    "_uuid": "3bc1a606a42d4e333baa3c62d5a7e5953db28cd9",
    "colab": {},
    "colab_type": "code",
    "id": "swBfSe5P4Zt3"
   },
   "outputs": [],
   "source": [
    "final_B_X = final_X"
   ]
  },
  {
   "cell_type": "code",
   "execution_count": 18,
   "metadata": {
    "_uuid": "646f10e703dca9daf8a0cca2b5c23f0a21d4ccec",
    "colab": {
     "base_uri": "https://localhost:8080/",
     "height": 561
    },
    "colab_type": "code",
    "executionInfo": {
     "elapsed": 73902,
     "status": "ok",
     "timestamp": 1588599475396,
     "user": {
      "displayName": "Mansoor Rahimat Khan",
      "photoUrl": "",
      "userId": "09687443316707549268"
     },
     "user_tz": -330
    },
    "id": "TtJrP3uU4Zt7",
    "outputId": "defdddbb-5a9d-4650-b2ed-3538f4968f84"
   },
   "outputs": [
    {
     "name": "stdout",
     "output_type": "stream",
     "text": [
      "  (0, 142748)\t2\n",
      "  (0, 11784)\t1\n",
      "  (0, 100430)\t1\n",
      "  (0, 97859)\t2\n",
      "  (0, 155850)\t1\n",
      "  (0, 133854)\t2\n",
      "  (0, 3831)\t1\n",
      "  (0, 165423)\t1\n",
      "  (0, 164485)\t1\n",
      "  (0, 193558)\t1\n",
      "  (0, 177092)\t1\n",
      "  (0, 60852)\t1\n",
      "  (0, 196632)\t1\n",
      "  (0, 95076)\t1\n",
      "  (0, 151689)\t1\n",
      "  (0, 142800)\t1\n",
      "  (0, 11861)\t1\n",
      "  (0, 100490)\t1\n",
      "  (0, 97865)\t1\n",
      "  (0, 155987)\t1\n",
      "  (0, 133898)\t1\n",
      "  (0, 133855)\t1\n",
      "  (0, 4021)\t1\n",
      "  (0, 165627)\t1\n",
      "  (0, 164722)\t1\n",
      "  (0, 193567)\t1\n",
      "  (0, 177168)\t1\n",
      "  (0, 60866)\t1\n",
      "  (0, 196648)\t1\n",
      "  (0, 95087)\t1\n",
      "  (0, 151696)\t1\n",
      "  (0, 143171)\t1\n"
     ]
    }
   ],
   "source": [
    "count_vect = CountVectorizer(ngram_range=(1,2))\n",
    "Bigram_data = count_vect.fit_transform(final_B_X)\n",
    "print(Bigram_data[1])"
   ]
  },
  {
   "cell_type": "markdown",
   "metadata": {
    "_uuid": "3d29a0749cc26757d3f311cadee7dfdd97aa7c76",
    "colab_type": "text",
    "id": "lHcH77Nu4ZuA"
   },
   "source": [
    "**TF-IDF**\n",
    "\n",
    "**Term Frequency -  Inverse Document Frequency** it makes sure that less importance is given to most frequent words and also considers less frequent words.\n",
    "\n",
    "**Term Frequency** is number of times a **particular word(W)** occurs in a review divided by totall number of words **(Wr)** in review. The term frequency value ranges from 0 to 1.\n",
    "\n",
    "**Inverse Document Frequency** is calculated as **log(Total Number of Docs(N) / Number of Docs which contains particular word(n))**. Here Docs referred as Reviews.\n",
    "\n",
    "\n",
    "**TF-IDF** is **TF * IDF** that is **(W/Wr)*LOG(N/n)**\n",
    "\n",
    "\n",
    " Using scikit-learn's tfidfVectorizer we can get the TF-IDF.\n",
    "\n",
    "So even here we get a TF-IDF value for every word and in some cases it may consider different meaning reviews as similar after stopwords removal. so to over come we can use BI-Gram or NGram."
   ]
  },
  {
   "cell_type": "code",
   "execution_count": 19,
   "metadata": {
    "_uuid": "b1870137f2b5f4f0e97eaa0b8812cae83c53ed21",
    "colab": {
     "base_uri": "https://localhost:8080/",
     "height": 272
    },
    "colab_type": "code",
    "executionInfo": {
     "elapsed": 73390,
     "status": "ok",
     "timestamp": 1588599475397,
     "user": {
      "displayName": "Mansoor Rahimat Khan",
      "photoUrl": "",
      "userId": "09687443316707549268"
     },
     "user_tz": -330
    },
    "id": "1QSd61Ov4ZuB",
    "outputId": "c7ce9de3-730e-4956-c8b8-bcf56e6bd18f"
   },
   "outputs": [
    {
     "name": "stdout",
     "output_type": "stream",
     "text": [
      "  (0, 3641)\t0.27633136515735446\n",
      "  (0, 2326)\t0.25860104128863787\n",
      "  (0, 4734)\t0.22110622670603633\n",
      "  (0, 1539)\t0.2676489579732629\n",
      "  (0, 4314)\t0.14376924933112933\n",
      "  (0, 4676)\t0.2703170210936338\n",
      "  (0, 3980)\t0.14758995053747803\n",
      "  (0, 4013)\t0.14731616688674187\n",
      "  (0, 162)\t0.14731616688674187\n",
      "  (0, 3219)\t0.3726548417697838\n",
      "  (0, 3770)\t0.1536626385509959\n",
      "  (0, 2420)\t0.5671119742041831\n",
      "  (0, 2493)\t0.18769649750089953\n",
      "  (0, 332)\t0.1574317775964303\n",
      "  (0, 3432)\t0.1822092004981035\n"
     ]
    }
   ],
   "source": [
    "final_tf = final_X\n",
    "tf_idf = TfidfVectorizer(max_features=5000)\n",
    "tf_data = tf_idf.fit_transform(final_tf)\n",
    "print(tf_data[1])"
   ]
  },
  {
   "cell_type": "code",
   "execution_count": 0,
   "metadata": {
    "colab": {},
    "colab_type": "code",
    "id": "q8PQ-O406Gb4"
   },
   "outputs": [],
   "source": []
  }
 ],
 "metadata": {
  "colab": {
   "collapsed_sections": [],
   "name": "Practice_exercise_solution.ipynb",
   "provenance": []
  },
  "kernelspec": {
   "display_name": "Python 3",
   "language": "python",
   "name": "python3"
  },
  "language_info": {
   "codemirror_mode": {
    "name": "ipython",
    "version": 3
   },
   "file_extension": ".py",
   "mimetype": "text/x-python",
   "name": "python",
   "nbconvert_exporter": "python",
   "pygments_lexer": "ipython3",
   "version": "3.8.8"
  }
 },
 "nbformat": 4,
 "nbformat_minor": 1
}
