{
 "cells": [
  {
   "cell_type": "markdown",
   "metadata": {
    "colab_type": "text",
    "id": "vXE926qT0jHg"
   },
   "source": [
    "# Time series prediction using LSTM"
   ]
  },
  {
   "cell_type": "markdown",
   "metadata": {
    "colab_type": "text",
    "id": "A6DaQw198lNd"
   },
   "source": [
    "Libraries used in this notebook along with their version:\n",
    "\n",
    "google\t2.0.3\n",
    "\n",
    "numpy\t1.18.3\n",
    "\n",
    "pandas\t1.0.3\n",
    "\n",
    "tensorflow\t2.2.0rc3"
   ]
  },
  {
   "cell_type": "markdown",
   "metadata": {
    "colab_type": "text",
    "id": "54u8ql4Z4kBE"
   },
   "source": [
    "## Dataset\n",
    "- Daily minimum temperatures in Melbourne, Australia, 1981-1990\n",
    "- Units: Degrees Celcius"
   ]
  },
  {
   "cell_type": "code",
   "execution_count": 1,
   "metadata": {
    "colab": {
     "base_uri": "https://localhost:8080/",
     "height": 122
    },
    "colab_type": "code",
    "executionInfo": {
     "elapsed": 36126,
     "status": "ok",
     "timestamp": 1588599787912,
     "user": {
      "displayName": "Mansoor Rahimat Khan",
      "photoUrl": "",
      "userId": "09687443316707549268"
     },
     "user_tz": -330
    },
    "id": "J8Xh_7vJKqy5",
    "outputId": "b756567b-c721-4e0b-dba4-e612c71fffca"
   },
   "outputs": [
    {
     "name": "stdout",
     "output_type": "stream",
     "text": [
      "Go to this URL in a browser: https://accounts.google.com/o/oauth2/auth?client_id=947318989803-6bn6qk8qdgf4n4g3pfee6491hc0brc4i.apps.googleusercontent.com&redirect_uri=urn%3aietf%3awg%3aoauth%3a2.0%3aoob&response_type=code&scope=email%20https%3a%2f%2fwww.googleapis.com%2fauth%2fdocs.test%20https%3a%2f%2fwww.googleapis.com%2fauth%2fdrive%20https%3a%2f%2fwww.googleapis.com%2fauth%2fdrive.photos.readonly%20https%3a%2f%2fwww.googleapis.com%2fauth%2fpeopleapi.readonly\n",
      "\n",
      "Enter your authorization code:\n",
      "··········\n",
      "Mounted at /content/drive\n"
     ]
    }
   ],
   "source": [
    "from google.colab import drive\n",
    "drive.mount('/content/drive')"
   ]
  },
  {
   "cell_type": "code",
   "execution_count": 2,
   "metadata": {
    "colab": {
     "base_uri": "https://localhost:8080/",
     "height": 34
    },
    "colab_type": "code",
    "executionInfo": {
     "elapsed": 2681,
     "status": "ok",
     "timestamp": 1588599825683,
     "user": {
      "displayName": "Mansoor Rahimat Khan",
      "photoUrl": "",
      "userId": "09687443316707549268"
     },
     "user_tz": -330
    },
    "id": "7okbkUCrXrFs",
    "outputId": "24cf78d4-a5f2-4daa-aea2-2e4c3d716d31"
   },
   "outputs": [
    {
     "data": {
      "text/plain": [
       "'2.2.0-rc3'"
      ]
     },
     "execution_count": 2,
     "metadata": {
      "tags": []
     },
     "output_type": "execute_result"
    }
   ],
   "source": [
    "import tensorflow\n",
    "tensorflow.__version__"
   ]
  },
  {
   "cell_type": "markdown",
   "metadata": {
    "colab_type": "text",
    "id": "IPkYyOzY77yl"
   },
   "source": [
    "## Question 1"
   ]
  },
  {
   "cell_type": "markdown",
   "metadata": {
    "colab_type": "text",
    "id": "aXEOY69f8B9d"
   },
   "source": [
    "### Load the data\n",
    "- load daily-minimum-temperatures-in-me.csv"
   ]
  },
  {
   "cell_type": "code",
   "execution_count": 0,
   "metadata": {
    "colab": {},
    "colab_type": "code",
    "id": "LA7R2II8-Jxh"
   },
   "outputs": [],
   "source": [
    "import pandas as pd\n",
    "df = pd.read_csv('daily-minimum-temperatures-in-me.csv')"
   ]
  },
  {
   "cell_type": "markdown",
   "metadata": {
    "colab_type": "text",
    "id": "pWcMgg69-T6k"
   },
   "source": [
    "### Print the data\n",
    "- First 5 rows only"
   ]
  },
  {
   "cell_type": "code",
   "execution_count": 4,
   "metadata": {
    "colab": {
     "base_uri": "https://localhost:8080/",
     "height": 204
    },
    "colab_type": "code",
    "executionInfo": {
     "elapsed": 1413,
     "status": "ok",
     "timestamp": 1588599838012,
     "user": {
      "displayName": "Mansoor Rahimat Khan",
      "photoUrl": "",
      "userId": "09687443316707549268"
     },
     "user_tz": -330
    },
    "id": "SM828gT_-Ra2",
    "outputId": "3bc76a78-842a-4034-fc22-e9b55dfc3411"
   },
   "outputs": [
    {
     "data": {
      "text/html": [
       "<div>\n",
       "<style scoped>\n",
       "    .dataframe tbody tr th:only-of-type {\n",
       "        vertical-align: middle;\n",
       "    }\n",
       "\n",
       "    .dataframe tbody tr th {\n",
       "        vertical-align: top;\n",
       "    }\n",
       "\n",
       "    .dataframe thead th {\n",
       "        text-align: right;\n",
       "    }\n",
       "</style>\n",
       "<table border=\"1\" class=\"dataframe\">\n",
       "  <thead>\n",
       "    <tr style=\"text-align: right;\">\n",
       "      <th></th>\n",
       "      <th>Date</th>\n",
       "      <th>Temperature</th>\n",
       "    </tr>\n",
       "  </thead>\n",
       "  <tbody>\n",
       "    <tr>\n",
       "      <th>0</th>\n",
       "      <td>1981-01-01</td>\n",
       "      <td>20.7</td>\n",
       "    </tr>\n",
       "    <tr>\n",
       "      <th>1</th>\n",
       "      <td>1981-01-02</td>\n",
       "      <td>17.9</td>\n",
       "    </tr>\n",
       "    <tr>\n",
       "      <th>2</th>\n",
       "      <td>1981-01-03</td>\n",
       "      <td>18.8</td>\n",
       "    </tr>\n",
       "    <tr>\n",
       "      <th>3</th>\n",
       "      <td>1981-01-04</td>\n",
       "      <td>14.6</td>\n",
       "    </tr>\n",
       "    <tr>\n",
       "      <th>4</th>\n",
       "      <td>1981-01-05</td>\n",
       "      <td>15.8</td>\n",
       "    </tr>\n",
       "  </tbody>\n",
       "</table>\n",
       "</div>"
      ],
      "text/plain": [
       "         Date  Temperature\n",
       "0  1981-01-01         20.7\n",
       "1  1981-01-02         17.9\n",
       "2  1981-01-03         18.8\n",
       "3  1981-01-04         14.6\n",
       "4  1981-01-05         15.8"
      ]
     },
     "execution_count": 4,
     "metadata": {
      "tags": []
     },
     "output_type": "execute_result"
    }
   ],
   "source": [
    "df.head()"
   ]
  },
  {
   "cell_type": "markdown",
   "metadata": {
    "colab_type": "text",
    "id": "JGnWESz9BKx8"
   },
   "source": [
    "### Set index column\n",
    "- Set the DataFrame index using \"Date\" column"
   ]
  },
  {
   "cell_type": "code",
   "execution_count": 0,
   "metadata": {
    "colab": {},
    "colab_type": "code",
    "id": "nFrbd_vd-eZP"
   },
   "outputs": [],
   "source": [
    "df = df.set_index(\"Date\")"
   ]
  },
  {
   "cell_type": "markdown",
   "metadata": {
    "colab_type": "text",
    "id": "sS7IVXq7B1P1"
   },
   "source": [
    "## Question 2"
   ]
  },
  {
   "cell_type": "markdown",
   "metadata": {
    "colab_type": "text",
    "id": "PcgAOybZCc5-"
   },
   "source": [
    "### Check the total count of null values in the data"
   ]
  },
  {
   "cell_type": "code",
   "execution_count": 6,
   "metadata": {
    "colab": {
     "base_uri": "https://localhost:8080/",
     "height": 51
    },
    "colab_type": "code",
    "executionInfo": {
     "elapsed": 1334,
     "status": "ok",
     "timestamp": 1588599840575,
     "user": {
      "displayName": "Mansoor Rahimat Khan",
      "photoUrl": "",
      "userId": "09687443316707549268"
     },
     "user_tz": -330
    },
    "id": "UTMe5jdCCj4k",
    "outputId": "1d0431ff-83f2-49b2-f978-18d9956605cb"
   },
   "outputs": [
    {
     "data": {
      "text/plain": [
       "Temperature    0\n",
       "dtype: int64"
      ]
     },
     "execution_count": 6,
     "metadata": {
      "tags": []
     },
     "output_type": "execute_result"
    }
   ],
   "source": [
    "df.isna().sum()"
   ]
  },
  {
   "cell_type": "markdown",
   "metadata": {
    "colab_type": "text",
    "id": "Ua-AeW2YC3kY"
   },
   "source": [
    "### Drop all the rows with null values\n",
    "- use dropna() method"
   ]
  },
  {
   "cell_type": "code",
   "execution_count": 0,
   "metadata": {
    "colab": {},
    "colab_type": "code",
    "id": "9l9UeA6YC8RV"
   },
   "outputs": [],
   "source": [
    "df.dropna(inplace=True)"
   ]
  },
  {
   "cell_type": "markdown",
   "metadata": {
    "colab_type": "text",
    "id": "SJam5Ho-DHK7"
   },
   "source": [
    "## Question 3"
   ]
  },
  {
   "cell_type": "markdown",
   "metadata": {
    "colab_type": "text",
    "id": "3esUPJAMDzCJ"
   },
   "source": [
    "### Describe your dataframe\n",
    "- use describe() method"
   ]
  },
  {
   "cell_type": "code",
   "execution_count": 8,
   "metadata": {
    "colab": {
     "base_uri": "https://localhost:8080/",
     "height": 297
    },
    "colab_type": "code",
    "executionInfo": {
     "elapsed": 1941,
     "status": "ok",
     "timestamp": 1588599841998,
     "user": {
      "displayName": "Mansoor Rahimat Khan",
      "photoUrl": "",
      "userId": "09687443316707549268"
     },
     "user_tz": -330
    },
    "id": "uhH8OwGVELyH",
    "outputId": "ccdf22f5-fa4a-47bf-c37a-9595b0769906"
   },
   "outputs": [
    {
     "data": {
      "text/html": [
       "<div>\n",
       "<style scoped>\n",
       "    .dataframe tbody tr th:only-of-type {\n",
       "        vertical-align: middle;\n",
       "    }\n",
       "\n",
       "    .dataframe tbody tr th {\n",
       "        vertical-align: top;\n",
       "    }\n",
       "\n",
       "    .dataframe thead th {\n",
       "        text-align: right;\n",
       "    }\n",
       "</style>\n",
       "<table border=\"1\" class=\"dataframe\">\n",
       "  <thead>\n",
       "    <tr style=\"text-align: right;\">\n",
       "      <th></th>\n",
       "      <th>Temperature</th>\n",
       "    </tr>\n",
       "  </thead>\n",
       "  <tbody>\n",
       "    <tr>\n",
       "      <th>count</th>\n",
       "      <td>3650.000000</td>\n",
       "    </tr>\n",
       "    <tr>\n",
       "      <th>mean</th>\n",
       "      <td>11.177753</td>\n",
       "    </tr>\n",
       "    <tr>\n",
       "      <th>std</th>\n",
       "      <td>4.071837</td>\n",
       "    </tr>\n",
       "    <tr>\n",
       "      <th>min</th>\n",
       "      <td>0.000000</td>\n",
       "    </tr>\n",
       "    <tr>\n",
       "      <th>25%</th>\n",
       "      <td>8.300000</td>\n",
       "    </tr>\n",
       "    <tr>\n",
       "      <th>50%</th>\n",
       "      <td>11.000000</td>\n",
       "    </tr>\n",
       "    <tr>\n",
       "      <th>75%</th>\n",
       "      <td>14.000000</td>\n",
       "    </tr>\n",
       "    <tr>\n",
       "      <th>max</th>\n",
       "      <td>26.300000</td>\n",
       "    </tr>\n",
       "  </tbody>\n",
       "</table>\n",
       "</div>"
      ],
      "text/plain": [
       "       Temperature\n",
       "count  3650.000000\n",
       "mean     11.177753\n",
       "std       4.071837\n",
       "min       0.000000\n",
       "25%       8.300000\n",
       "50%      11.000000\n",
       "75%      14.000000\n",
       "max      26.300000"
      ]
     },
     "execution_count": 8,
     "metadata": {
      "tags": []
     },
     "output_type": "execute_result"
    }
   ],
   "source": [
    "df.describe()"
   ]
  },
  {
   "cell_type": "markdown",
   "metadata": {
    "colab_type": "text",
    "id": "bizrToFMB4ix"
   },
   "source": [
    "### Plot the dataframe\n",
    "- use plot() method"
   ]
  },
  {
   "cell_type": "code",
   "execution_count": 9,
   "metadata": {
    "colab": {
     "base_uri": "https://localhost:8080/",
     "height": 296
    },
    "colab_type": "code",
    "executionInfo": {
     "elapsed": 1460,
     "status": "ok",
     "timestamp": 1588599841999,
     "user": {
      "displayName": "Mansoor Rahimat Khan",
      "photoUrl": "",
      "userId": "09687443316707549268"
     },
     "user_tz": -330
    },
    "id": "rNiXK6YZB30N",
    "outputId": "fee358f7-9dcc-4b10-99a4-4f10508a8340"
   },
   "outputs": [
    {
     "data": {
      "text/plain": [
       "<matplotlib.axes._subplots.AxesSubplot at 0x7f442fdb4b70>"
      ]
     },
     "execution_count": 9,
     "metadata": {
      "tags": []
     },
     "output_type": "execute_result"
    },
    {
     "data": {
      "image/png": "[encoded data removed]",
      "text/plain": [
       "<Figure size 432x288 with 1 Axes>"
      ]
     },
     "metadata": {
      "needs_background": "light",
      "tags": []
     },
     "output_type": "display_data"
    }
   ],
   "source": [
    "df.plot()"
   ]
  },
  {
   "cell_type": "markdown",
   "metadata": {
    "colab_type": "text",
    "id": "OtI9ZGJqE1lh"
   },
   "source": [
    "### Get representation of the distribution of data using histogram\n",
    "- use hist() method"
   ]
  },
  {
   "cell_type": "code",
   "execution_count": 10,
   "metadata": {
    "colab": {
     "base_uri": "https://localhost:8080/",
     "height": 315
    },
    "colab_type": "code",
    "executionInfo": {
     "elapsed": 1778,
     "status": "ok",
     "timestamp": 1588599842639,
     "user": {
      "displayName": "Mansoor Rahimat Khan",
      "photoUrl": "",
      "userId": "09687443316707549268"
     },
     "user_tz": -330
    },
    "id": "qan611HdE9nR",
    "outputId": "586289ab-20eb-4e52-b860-e7da4cd113d7"
   },
   "outputs": [
    {
     "data": {
      "text/plain": [
       "array([[<matplotlib.axes._subplots.AxesSubplot object at 0x7f442fccfd68>]],\n",
       "      dtype=object)"
      ]
     },
     "execution_count": 10,
     "metadata": {
      "tags": []
     },
     "output_type": "execute_result"
    },
    {
     "data": {
      "image/png": "[encoded data removed]",
      "text/plain": [
       "<Figure size 432x288 with 1 Axes>"
      ]
     },
     "metadata": {
      "needs_background": "light",
      "tags": []
     },
     "output_type": "display_data"
    }
   ],
   "source": [
    "df.hist()"
   ]
  },
  {
   "cell_type": "markdown",
   "metadata": {
    "colab_type": "text",
    "id": "D8VDVRisHAsH"
   },
   "source": [
    "### Check minimum and maximum temperature\n",
    "- use min() and max() methods"
   ]
  },
  {
   "cell_type": "code",
   "execution_count": 11,
   "metadata": {
    "colab": {
     "base_uri": "https://localhost:8080/",
     "height": 51
    },
    "colab_type": "code",
    "executionInfo": {
     "elapsed": 1405,
     "status": "ok",
     "timestamp": 1588599842640,
     "user": {
      "displayName": "Mansoor Rahimat Khan",
      "photoUrl": "",
      "userId": "09687443316707549268"
     },
     "user_tz": -330
    },
    "id": "xlwlVtRfG_qX",
    "outputId": "95a5039f-cdc7-4728-f379-0b291f8f1ad9"
   },
   "outputs": [
    {
     "data": {
      "text/plain": [
       "Temperature    0.0\n",
       "dtype: float64"
      ]
     },
     "execution_count": 11,
     "metadata": {
      "tags": []
     },
     "output_type": "execute_result"
    }
   ],
   "source": [
    "df.min()"
   ]
  },
  {
   "cell_type": "code",
   "execution_count": 12,
   "metadata": {
    "colab": {
     "base_uri": "https://localhost:8080/",
     "height": 51
    },
    "colab_type": "code",
    "executionInfo": {
     "elapsed": 1797,
     "status": "ok",
     "timestamp": 1588599843217,
     "user": {
      "displayName": "Mansoor Rahimat Khan",
      "photoUrl": "",
      "userId": "09687443316707549268"
     },
     "user_tz": -330
    },
    "id": "abO5iWWAFFCJ",
    "outputId": "bae5cdcb-a9ba-47fd-ace3-0b12d31d88c0"
   },
   "outputs": [
    {
     "data": {
      "text/plain": [
       "Temperature    26.3\n",
       "dtype: float64"
      ]
     },
     "execution_count": 12,
     "metadata": {
      "tags": []
     },
     "output_type": "execute_result"
    }
   ],
   "source": [
    "df.max()"
   ]
  },
  {
   "cell_type": "markdown",
   "metadata": {
    "colab_type": "text",
    "id": "qTjD3zhSI_BD"
   },
   "source": [
    "## Question 4"
   ]
  },
  {
   "cell_type": "markdown",
   "metadata": {
    "colab_type": "text",
    "id": "QSDmmRxBMOO7"
   },
   "source": [
    "### Split the dataset into training and testing\n",
    "- training data: 75%\n",
    "- testing data: 25%"
   ]
  },
  {
   "cell_type": "code",
   "execution_count": 0,
   "metadata": {
    "colab": {},
    "colab_type": "code",
    "id": "dbrspzBVM6Gg"
   },
   "outputs": [],
   "source": [
    "train = df[:int(len(df) * 0.75)]\n",
    "test = df[int(len(df) * 0.75):len(df)]"
   ]
  },
  {
   "cell_type": "markdown",
   "metadata": {
    "colab_type": "text",
    "id": "eEgBn5JkKwrZ"
   },
   "source": [
    "### Normalize the data\n",
    "- normalize temperature values using MinMaxScaler\n",
    "- feature_range: 0-1\n",
    "- fit MinMaxScaler on train data and transform it\n",
    "  - use fit_transform() method\n",
    "- transform test data using MinMaxScaler object\n",
    "  - use transform() method"
   ]
  },
  {
   "cell_type": "code",
   "execution_count": 0,
   "metadata": {
    "colab": {},
    "colab_type": "code",
    "id": "OqDcm7tbI19Z"
   },
   "outputs": [],
   "source": [
    "from sklearn.preprocessing import MinMaxScaler\n",
    "ms = MinMaxScaler(feature_range=(0, 1))\n",
    "train = ms.fit_transform(train)\n",
    "test = ms.transform(test)"
   ]
  },
  {
   "cell_type": "markdown",
   "metadata": {
    "colab_type": "text",
    "id": "4HjbO8gRQ3M1"
   },
   "source": [
    "### Print scaled train and test data\n",
    "- print only first 5 values"
   ]
  },
  {
   "cell_type": "code",
   "execution_count": 15,
   "metadata": {
    "colab": {
     "base_uri": "https://localhost:8080/",
     "height": 102
    },
    "colab_type": "code",
    "executionInfo": {
     "elapsed": 1553,
     "status": "ok",
     "timestamp": 1588599845093,
     "user": {
      "displayName": "Mansoor Rahimat Khan",
      "photoUrl": "",
      "userId": "09687443316707549268"
     },
     "user_tz": -330
    },
    "id": "U_WDZwKxRBRx",
    "outputId": "1a99ba50-4b66-4940-c408-7999c0b5717d"
   },
   "outputs": [
    {
     "data": {
      "text/plain": [
       "array([[0.78707224],\n",
       "       [0.68060837],\n",
       "       [0.7148289 ],\n",
       "       [0.55513308],\n",
       "       [0.60076046]])"
      ]
     },
     "execution_count": 15,
     "metadata": {
      "tags": []
     },
     "output_type": "execute_result"
    }
   ],
   "source": [
    "train[:5]"
   ]
  },
  {
   "cell_type": "code",
   "execution_count": 16,
   "metadata": {
    "colab": {
     "base_uri": "https://localhost:8080/",
     "height": 102
    },
    "colab_type": "code",
    "executionInfo": {
     "elapsed": 1388,
     "status": "ok",
     "timestamp": 1588599845094,
     "user": {
      "displayName": "Mansoor Rahimat Khan",
      "photoUrl": "",
      "userId": "09687443316707549268"
     },
     "user_tz": -330
    },
    "id": "vYlwALHrRGcX",
    "outputId": "62e2f19f-a17e-4825-903c-6e645986402f"
   },
   "outputs": [
    {
     "data": {
      "text/plain": [
       "array([[0.22813688],\n",
       "       [0.22053232],\n",
       "       [0.18631179],\n",
       "       [0.19011407],\n",
       "       [0.31939163]])"
      ]
     },
     "execution_count": 16,
     "metadata": {
      "tags": []
     },
     "output_type": "execute_result"
    }
   ],
   "source": [
    "test[:5]"
   ]
  },
  {
   "cell_type": "markdown",
   "metadata": {
    "colab_type": "text",
    "id": "JB5lHp94RQWY"
   },
   "source": [
    "## Question 5"
   ]
  },
  {
   "cell_type": "markdown",
   "metadata": {
    "colab_type": "text",
    "id": "kVqNUf00RSiv"
   },
   "source": [
    "### Create sequential data\n",
    "Map the temperature at a particular day 'd' to the temperature at day t\n",
    "'d+n', where n is any number you define.\n",
    "\n",
    "For example: to map temperatures of consecutive days, use d+1, i.e. lookback = 1\n",
    "- Below function takes data as input and returns sequential data.\n",
    "- X as features and y as labels"
   ]
  },
  {
   "cell_type": "code",
   "execution_count": 0,
   "metadata": {
    "colab": {},
    "colab_type": "code",
    "id": "AtxhXruAWws-"
   },
   "outputs": [],
   "source": [
    "import numpy as np\n",
    "def create_seq_data(data, lookback=1):\n",
    "  X, y = list(), list()\n",
    "  \n",
    "  for day in range((len(data)-lookback)):\n",
    "    X.append(data[day: day+lookback, 0])\n",
    "    y.append(data[day+lookback, 0])\n",
    "  return np.array(X), np.array(y)"
   ]
  },
  {
   "cell_type": "markdown",
   "metadata": {
    "colab_type": "text",
    "id": "VMBJpuDQJzcG"
   },
   "source": [
    "### Use the above function to create train and test sets\n",
    "- Get X_train and y_train\n",
    "- Get X_test and y_test\n",
    "- lookback = 1"
   ]
  },
  {
   "cell_type": "code",
   "execution_count": 0,
   "metadata": {
    "colab": {},
    "colab_type": "code",
    "id": "Uq6GGmJ0Zqem"
   },
   "outputs": [],
   "source": [
    "X_train, y_train = create_seq_data(train)\n",
    "X_test, y_test = create_seq_data(test)"
   ]
  },
  {
   "cell_type": "markdown",
   "metadata": {
    "colab_type": "text",
    "id": "-E2iixEfK0Px"
   },
   "source": [
    "### Reshape the data\n",
    "- Reshape X_train and X_test\n",
    "- use np.reshape() method\n",
    "- this is to be done to make the data ready for input in model"
   ]
  },
  {
   "cell_type": "code",
   "execution_count": 0,
   "metadata": {
    "colab": {},
    "colab_type": "code",
    "id": "X3qhXEqoZxQ3"
   },
   "outputs": [],
   "source": [
    "X_train = np.reshape(X_train, (X_train.shape[0], X_train.shape[1], 1))\n",
    "X_test = np.reshape(X_test, (X_test.shape[0], X_test.shape[1], 1))"
   ]
  },
  {
   "cell_type": "markdown",
   "metadata": {
    "colab_type": "text",
    "id": "zKZ8SALZcuNB"
   },
   "source": [
    "### Print shape of data\n",
    "- print shape of X_train and X_test"
   ]
  },
  {
   "cell_type": "code",
   "execution_count": 20,
   "metadata": {
    "colab": {
     "base_uri": "https://localhost:8080/",
     "height": 51
    },
    "colab_type": "code",
    "executionInfo": {
     "elapsed": 1045,
     "status": "ok",
     "timestamp": 1588599848937,
     "user": {
      "displayName": "Mansoor Rahimat Khan",
      "photoUrl": "",
      "userId": "09687443316707549268"
     },
     "user_tz": -330
    },
    "id": "OSg_rbP6c_HI",
    "outputId": "481b2804-e4e1-42f9-c282-cce07c0ff11b"
   },
   "outputs": [
    {
     "name": "stdout",
     "output_type": "stream",
     "text": [
      "(2736, 1, 1)\n",
      "(912, 1, 1)\n"
     ]
    }
   ],
   "source": [
    "print(X_train.shape)\n",
    "print(X_test.shape)"
   ]
  },
  {
   "cell_type": "markdown",
   "metadata": {
    "colab_type": "text",
    "id": "emGjaYZ5dfRq"
   },
   "source": [
    "## Question 6"
   ]
  },
  {
   "cell_type": "markdown",
   "metadata": {
    "colab_type": "text",
    "id": "7fk2Ze24dsXw"
   },
   "source": [
    "### Define sequential model\n",
    "- initialize a Sequential model\n",
    "- add an LSTM layer\n",
    "  - units: 10\n",
    "  - stateful: True\n",
    "  - pass a `batch_input_shape` argument to your layer\n",
    "  - batch_input_shape: (batch_size, look_back, 1)\n",
    "    - batch_size: 1\n",
    "    - look_back: 1\n",
    "- add Dense layer with 1 neuron"
   ]
  },
  {
   "cell_type": "code",
   "execution_count": 0,
   "metadata": {
    "colab": {},
    "colab_type": "code",
    "id": "eXU6UNt4dhJz"
   },
   "outputs": [],
   "source": [
    "from tensorflow.keras.models import Sequential\n",
    "from tensorflow.keras.layers import LSTM, Dense\n",
    "\n",
    "model = Sequential()\n",
    "model.add(LSTM(10, stateful=True, batch_input_shape=(1, 1, 1)))\n",
    "model.add(Dense(1))"
   ]
  },
  {
   "cell_type": "markdown",
   "metadata": {
    "colab_type": "text",
    "id": "cLymvPFzEQSp"
   },
   "source": [
    "## Question 7"
   ]
  },
  {
   "cell_type": "markdown",
   "metadata": {
    "colab_type": "text",
    "id": "AZmlvbcMrCTh"
   },
   "source": [
    "### compile your model\n",
    "- loss: mean_squared_error\n",
    "- optimizer: adam"
   ]
  },
  {
   "cell_type": "code",
   "execution_count": 0,
   "metadata": {
    "colab": {},
    "colab_type": "code",
    "id": "TrcHrSdtg62Q"
   },
   "outputs": [],
   "source": [
    "model.compile(loss='mean_squared_error', optimizer='adam')"
   ]
  },
  {
   "cell_type": "markdown",
   "metadata": {
    "colab_type": "text",
    "id": "WWAoHdFurJN5"
   },
   "source": [
    "### summarize your model\n",
    "- use summary() method"
   ]
  },
  {
   "cell_type": "code",
   "execution_count": 23,
   "metadata": {
    "colab": {
     "base_uri": "https://localhost:8080/",
     "height": 221
    },
    "colab_type": "code",
    "executionInfo": {
     "elapsed": 1002,
     "status": "ok",
     "timestamp": 1588599854217,
     "user": {
      "displayName": "Mansoor Rahimat Khan",
      "photoUrl": "",
      "userId": "09687443316707549268"
     },
     "user_tz": -330
    },
    "id": "UlIaCMtBrPU2",
    "outputId": "3144d278-f5a9-41f2-da4a-b571cc2dd39f"
   },
   "outputs": [
    {
     "name": "stdout",
     "output_type": "stream",
     "text": [
      "Model: \"sequential\"\n",
      "_________________________________________________________________\n",
      "Layer (type)                 Output Shape              Param #   \n",
      "=================================================================\n",
      "lstm (LSTM)                  (1, 10)                   480       \n",
      "_________________________________________________________________\n",
      "dense (Dense)                (1, 1)                    11        \n",
      "=================================================================\n",
      "Total params: 491\n",
      "Trainable params: 491\n",
      "Non-trainable params: 0\n",
      "_________________________________________________________________\n"
     ]
    }
   ],
   "source": [
    "model.summary()"
   ]
  },
  {
   "cell_type": "markdown",
   "metadata": {
    "colab_type": "text",
    "id": "dq5a3i6uEcJI"
   },
   "source": [
    "## Question 8"
   ]
  },
  {
   "cell_type": "markdown",
   "metadata": {
    "colab_type": "text",
    "id": "0Ca3CFhOrf83"
   },
   "source": [
    "### fit your model\n",
    "- epochs: 50\n",
    "- batch_size: 1"
   ]
  },
  {
   "cell_type": "code",
   "execution_count": 24,
   "metadata": {
    "colab": {
     "base_uri": "https://localhost:8080/",
     "height": 1000
    },
    "colab_type": "code",
    "executionInfo": {
     "elapsed": 200968,
     "status": "ok",
     "timestamp": 1588600058776,
     "user": {
      "displayName": "Mansoor Rahimat Khan",
      "photoUrl": "",
      "userId": "09687443316707549268"
     },
     "user_tz": -330
    },
    "id": "BbuB-XGPhH6h",
    "outputId": "6032cae5-cd09-4354-dbe6-0a2760624458"
   },
   "outputs": [
    {
     "name": "stdout",
     "output_type": "stream",
     "text": [
      "Epoch 1/50\n",
      "2736/2736 [==============================] - 4s 1ms/step - loss: 0.0148\n",
      "Epoch 2/50\n",
      "2736/2736 [==============================] - 4s 1ms/step - loss: 0.0102\n",
      "Epoch 3/50\n",
      "2736/2736 [==============================] - 4s 1ms/step - loss: 0.0101\n",
      "Epoch 4/50\n",
      "2736/2736 [==============================] - 4s 1ms/step - loss: 0.0102\n",
      "Epoch 5/50\n",
      "2736/2736 [==============================] - 4s 1ms/step - loss: 0.0101\n",
      "Epoch 6/50\n",
      "2736/2736 [==============================] - 4s 1ms/step - loss: 0.0101\n",
      "Epoch 7/50\n",
      "2736/2736 [==============================] - 4s 1ms/step - loss: 0.0100\n",
      "Epoch 8/50\n",
      "2736/2736 [==============================] - 4s 1ms/step - loss: 0.0100\n",
      "Epoch 9/50\n",
      "2736/2736 [==============================] - 4s 1ms/step - loss: 0.0100\n",
      "Epoch 10/50\n",
      "2736/2736 [==============================] - 4s 1ms/step - loss: 0.0101\n",
      "Epoch 11/50\n",
      "2736/2736 [==============================] - 4s 1ms/step - loss: 0.0100\n",
      "Epoch 12/50\n",
      "2736/2736 [==============================] - 4s 1ms/step - loss: 0.0099\n",
      "Epoch 13/50\n",
      "2736/2736 [==============================] - 4s 1ms/step - loss: 0.0101\n",
      "Epoch 14/50\n",
      "2736/2736 [==============================] - 4s 1ms/step - loss: 0.0100\n",
      "Epoch 15/50\n",
      "2736/2736 [==============================] - 4s 2ms/step - loss: 0.0100\n",
      "Epoch 16/50\n",
      "2736/2736 [==============================] - 4s 2ms/step - loss: 0.0100\n",
      "Epoch 17/50\n",
      "2736/2736 [==============================] - 4s 1ms/step - loss: 0.0100\n",
      "Epoch 18/50\n",
      "2736/2736 [==============================] - 4s 1ms/step - loss: 0.0100\n",
      "Epoch 19/50\n",
      "2736/2736 [==============================] - 4s 1ms/step - loss: 0.0100\n",
      "Epoch 20/50\n",
      "2736/2736 [==============================] - 4s 1ms/step - loss: 0.0100\n",
      "Epoch 21/50\n",
      "2736/2736 [==============================] - 4s 1ms/step - loss: 0.0099\n",
      "Epoch 22/50\n",
      "2736/2736 [==============================] - 4s 1ms/step - loss: 0.0099\n",
      "Epoch 23/50\n",
      "2736/2736 [==============================] - 4s 1ms/step - loss: 0.0099\n",
      "Epoch 24/50\n",
      "2736/2736 [==============================] - 4s 1ms/step - loss: 0.0100\n",
      "Epoch 25/50\n",
      "2736/2736 [==============================] - 4s 1ms/step - loss: 0.0099\n",
      "Epoch 26/50\n",
      "2736/2736 [==============================] - 4s 1ms/step - loss: 0.0099\n",
      "Epoch 27/50\n",
      "2736/2736 [==============================] - 4s 1ms/step - loss: 0.0099\n",
      "Epoch 28/50\n",
      "2736/2736 [==============================] - 4s 1ms/step - loss: 0.0099\n",
      "Epoch 29/50\n",
      "2736/2736 [==============================] - 4s 1ms/step - loss: 0.0100\n",
      "Epoch 30/50\n",
      "2736/2736 [==============================] - 4s 1ms/step - loss: 0.0099\n",
      "Epoch 31/50\n",
      "2736/2736 [==============================] - 4s 1ms/step - loss: 0.0100\n",
      "Epoch 32/50\n",
      "2736/2736 [==============================] - 4s 1ms/step - loss: 0.0099\n",
      "Epoch 33/50\n",
      "2736/2736 [==============================] - 4s 1ms/step - loss: 0.0100\n",
      "Epoch 34/50\n",
      "2736/2736 [==============================] - 4s 1ms/step - loss: 0.0099\n",
      "Epoch 35/50\n",
      "2736/2736 [==============================] - 4s 1ms/step - loss: 0.0099\n",
      "Epoch 36/50\n",
      "2736/2736 [==============================] - 4s 1ms/step - loss: 0.0099\n",
      "Epoch 37/50\n",
      "2736/2736 [==============================] - 4s 1ms/step - loss: 0.0100\n",
      "Epoch 38/50\n",
      "2736/2736 [==============================] - 4s 1ms/step - loss: 0.0099\n",
      "Epoch 39/50\n",
      "2736/2736 [==============================] - 4s 1ms/step - loss: 0.0099\n",
      "Epoch 40/50\n",
      "2736/2736 [==============================] - 4s 1ms/step - loss: 0.0099\n",
      "Epoch 41/50\n",
      "2736/2736 [==============================] - 4s 1ms/step - loss: 0.0098\n",
      "Epoch 42/50\n",
      "2736/2736 [==============================] - 4s 1ms/step - loss: 0.0099\n",
      "Epoch 43/50\n",
      "2736/2736 [==============================] - 4s 2ms/step - loss: 0.0099\n",
      "Epoch 44/50\n",
      "2736/2736 [==============================] - 4s 1ms/step - loss: 0.0100\n",
      "Epoch 45/50\n",
      "2736/2736 [==============================] - 4s 1ms/step - loss: 0.0100\n",
      "Epoch 46/50\n",
      "2736/2736 [==============================] - 4s 1ms/step - loss: 0.0100\n",
      "Epoch 47/50\n",
      "2736/2736 [==============================] - 4s 1ms/step - loss: 0.0100\n",
      "Epoch 48/50\n",
      "2736/2736 [==============================] - 4s 1ms/step - loss: 0.0100\n",
      "Epoch 49/50\n",
      "2736/2736 [==============================] - 4s 1ms/step - loss: 0.0100\n",
      "Epoch 50/50\n",
      "2736/2736 [==============================] - 4s 1ms/step - loss: 0.0100\n"
     ]
    },
    {
     "data": {
      "text/plain": [
       "<tensorflow.python.keras.callbacks.History at 0x7f4421d1f828>"
      ]
     },
     "execution_count": 24,
     "metadata": {
      "tags": []
     },
     "output_type": "execute_result"
    }
   ],
   "source": [
    "model.fit(X_train, y_train, epochs=50, batch_size=1)"
   ]
  },
  {
   "cell_type": "markdown",
   "metadata": {
    "colab_type": "text",
    "id": "hqRlEmbjEqyG"
   },
   "source": [
    "## Question 9"
   ]
  },
  {
   "cell_type": "markdown",
   "metadata": {
    "colab_type": "text",
    "id": "12IhOtvUHJBF"
   },
   "source": [
    "### make predictions on train data\n",
    "- use predict() method\n",
    "  - batch_size: 1\n",
    "- store predictions in a variable"
   ]
  },
  {
   "cell_type": "code",
   "execution_count": 0,
   "metadata": {
    "colab": {},
    "colab_type": "code",
    "id": "iXWuJikQHURm"
   },
   "outputs": [],
   "source": [
    "train_pred = model.predict(X_train, batch_size=1)"
   ]
  },
  {
   "cell_type": "markdown",
   "metadata": {
    "colab_type": "text",
    "id": "XxxWOa-PsieH"
   },
   "source": [
    "### reset model state\n",
    "- if you are using stateful=True in your model then you should call reset_states every time, when you want to make consecutive model calls independent.\n",
    "- use reset_states() method"
   ]
  },
  {
   "cell_type": "code",
   "execution_count": 0,
   "metadata": {
    "colab": {},
    "colab_type": "code",
    "id": "ZdV5_F1Eo8SY"
   },
   "outputs": [],
   "source": [
    "model.reset_states()"
   ]
  },
  {
   "cell_type": "markdown",
   "metadata": {
    "colab_type": "text",
    "id": "KAhziPVBJD0u"
   },
   "source": [
    "### make predictions on test data\n",
    "- use predict() method\n",
    "  - batch_size: 1\n",
    "- store predictions in a variable"
   ]
  },
  {
   "cell_type": "code",
   "execution_count": 0,
   "metadata": {
    "colab": {},
    "colab_type": "code",
    "id": "HuHopEXNJU_y"
   },
   "outputs": [],
   "source": [
    "test_pred = model.predict(X_test, batch_size=1)"
   ]
  },
  {
   "cell_type": "markdown",
   "metadata": {
    "colab_type": "text",
    "id": "pO81E-fsJruD"
   },
   "source": [
    "## Question 10"
   ]
  },
  {
   "cell_type": "markdown",
   "metadata": {
    "colab_type": "text",
    "id": "RImBG7sCtnlb"
   },
   "source": [
    "### Inverse train predictions and true labels\n",
    "- use your MinMaxSclarer object\n",
    "- use inverse_transform() method"
   ]
  },
  {
   "cell_type": "code",
   "execution_count": 0,
   "metadata": {
    "colab": {},
    "colab_type": "code",
    "id": "xXfce41cqN-h"
   },
   "outputs": [],
   "source": [
    "train_pred = ms.inverse_transform(train_pred)\n",
    "y_train = ms.inverse_transform([y_train])"
   ]
  },
  {
   "cell_type": "markdown",
   "metadata": {
    "colab_type": "text",
    "id": "5fWSzk8cuPbp"
   },
   "source": [
    "### Inverse test predictions and true labels\n",
    "- use your MinMaxSclarer object\n",
    "- use inverse_transform() method"
   ]
  },
  {
   "cell_type": "code",
   "execution_count": 0,
   "metadata": {
    "colab": {},
    "colab_type": "code",
    "id": "nVJ1wMupuPbu"
   },
   "outputs": [],
   "source": [
    "test_pred = ms.inverse_transform(test_pred)\n",
    "y_test = ms.inverse_transform([y_test])"
   ]
  },
  {
   "cell_type": "markdown",
   "metadata": {
    "colab_type": "text",
    "id": "VtowvAItJv6c"
   },
   "source": [
    "### Evaluate train predictions\n",
    "- calculate RMSE\n",
    "- RMSE = sqrt(mean_squared_error(true_labels, predicted_labels))\n",
    "- use sqrt() and mean_squared_error() method\n",
    "- print training RMSE"
   ]
  },
  {
   "cell_type": "code",
   "execution_count": 0,
   "metadata": {
    "colab": {},
    "colab_type": "code",
    "id": "GjXbis_bJ9GL"
   },
   "outputs": [],
   "source": [
    "import math\n",
    "from sklearn.metrics import mean_squared_error\n",
    "train_score = math.sqrt(mean_squared_error(y_train[0], train_pred[:,0]))"
   ]
  },
  {
   "cell_type": "code",
   "execution_count": 31,
   "metadata": {
    "colab": {
     "base_uri": "https://localhost:8080/",
     "height": 34
    },
    "colab_type": "code",
    "executionInfo": {
     "elapsed": 199583,
     "status": "ok",
     "timestamp": 1588600061729,
     "user": {
      "displayName": "Mansoor Rahimat Khan",
      "photoUrl": "",
      "userId": "09687443316707549268"
     },
     "user_tz": -330
    },
    "id": "pLb65-QiqMDX",
    "outputId": "1f59584e-52d4-4ad5-dde3-aad57f67fd98"
   },
   "outputs": [
    {
     "name": "stdout",
     "output_type": "stream",
     "text": [
      "Train Score: 2.71 RMSE\n"
     ]
    }
   ],
   "source": [
    "print('Train Score: %.2f RMSE' % (train_score))"
   ]
  },
  {
   "cell_type": "markdown",
   "metadata": {
    "colab_type": "text",
    "id": "DBOfSPRDvERE"
   },
   "source": [
    "### Evaluate test predictions\n",
    "- calculate RMSE\n",
    "- RMSE = sqrt(mean_squared_error(true_labels, predicted_labels))\n",
    "- use sqrt() and mean_squared_error() method\n",
    "- print testing RMSE"
   ]
  },
  {
   "cell_type": "code",
   "execution_count": 0,
   "metadata": {
    "colab": {},
    "colab_type": "code",
    "id": "8rQOereovERJ"
   },
   "outputs": [],
   "source": [
    "test_score = math.sqrt(mean_squared_error(y_test[0], test_pred[:,0]))"
   ]
  },
  {
   "cell_type": "code",
   "execution_count": 33,
   "metadata": {
    "colab": {
     "base_uri": "https://localhost:8080/",
     "height": 34
    },
    "colab_type": "code",
    "executionInfo": {
     "elapsed": 199118,
     "status": "ok",
     "timestamp": 1588600061730,
     "user": {
      "displayName": "Mansoor Rahimat Khan",
      "photoUrl": "",
      "userId": "09687443316707549268"
     },
     "user_tz": -330
    },
    "id": "8DhUsMnvvERT",
    "outputId": "93d13837-eeb9-4682-8830-3be616b29801"
   },
   "outputs": [
    {
     "name": "stdout",
     "output_type": "stream",
     "text": [
      "Test Score: 2.65 RMSE\n"
     ]
    }
   ],
   "source": [
    "print('Test Score: %.2f RMSE' % (test_score))"
   ]
  },
  {
   "cell_type": "code",
   "execution_count": 0,
   "metadata": {
    "colab": {},
    "colab_type": "code",
    "id": "DKiZtsrX8gnt"
   },
   "outputs": [],
   "source": []
  }
 ],
 "metadata": {
  "colab": {
   "collapsed_sections": [],
   "name": "solution_time-series-prediction_lstm.ipynb",
   "provenance": [],
   "toc_visible": true
  },
  "kernelspec": {
   "display_name": "Python 3",
   "language": "python",
   "name": "python3"
  },
  "language_info": {
   "codemirror_mode": {
    "name": "ipython",
    "version": 3
   },
   "file_extension": ".py",
   "mimetype": "text/x-python",
   "name": "python",
   "nbconvert_exporter": "python",
   "pygments_lexer": "ipython3",
   "version": "3.8.8"
  }
 },
 "nbformat": 4,
 "nbformat_minor": 1
}
