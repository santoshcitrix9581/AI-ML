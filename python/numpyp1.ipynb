{
 "cells": [
  {
   "cell_type": "code",
   "execution_count": 1,
   "id": "da9dfd15",
   "metadata": {},
   "outputs": [],
   "source": [
    "import numpy as np"
   ]
  },
  {
   "cell_type": "code",
   "execution_count": 6,
   "id": "78f6db64",
   "metadata": {},
   "outputs": [
    {
     "name": "stdout",
     "output_type": "stream",
     "text": [
      "-1.0\n",
      "2.0\n",
      "2.807354922057604\n"
     ]
    }
   ],
   "source": [
    "print(np.cos(np.pi))\n",
    "print(np.sqrt(4))\n",
    "print(np.log2(2^5))"
   ]
  },
  {
   "cell_type": "code",
   "execution_count": 30,
   "id": "d3c4697e",
   "metadata": {},
   "outputs": [
    {
     "name": "stdout",
     "output_type": "stream",
     "text": [
      "[1 2 3]\n",
      "[[1 2 3]\n",
      " [4 5 6]\n",
      " [7 8 9]]\n",
      "[[1 4 7]\n",
      " [2 5 8]\n",
      " [3 6 9]]\n"
     ]
    }
   ],
   "source": [
    "vec=np.array([1,2,3])\n",
    "print(vec)\n",
    "mat=np.array([[1,2,3],[4,5,6],[7,8,9]])\n",
    "print(mat)\n",
    "print(mat.T)"
   ]
  },
  {
   "cell_type": "code",
   "execution_count": 10,
   "id": "de80d58c",
   "metadata": {},
   "outputs": [
    {
     "name": "stdout",
     "output_type": "stream",
     "text": [
      "[ 0  1  2  3  4  5  6  7  8  9 10 11 12 13 14]\n",
      "[ 3  9 15]\n"
     ]
    }
   ],
   "source": [
    "vec2=np.arange(0,15)\n",
    "print(vec2)\n",
    "vec3=np.arange(3,21,6)\n",
    "print(vec3)"
   ]
  },
  {
   "cell_type": "code",
   "execution_count": 19,
   "id": "fb2c406c",
   "metadata": {},
   "outputs": [
    {
     "name": "stdout",
     "output_type": "stream",
     "text": [
      "[0.         0.55555556 1.11111111 1.66666667 2.22222222 2.77777778\n",
      " 3.33333333 3.88888889 4.44444444 5.        ]\n",
      "[[0.         0.55555556]\n",
      " [1.11111111 1.66666667]\n",
      " [2.22222222 2.77777778]\n",
      " [3.33333333 3.88888889]\n",
      " [4.44444444 5.        ]]\n"
     ]
    }
   ],
   "source": [
    "vec4=np.linspace(0,5,10)\n",
    "print(vec4)\n",
    "vec5= vec4.reshape(5,2)\n",
    "print(vec5)"
   ]
  },
  {
   "cell_type": "code",
   "execution_count": 23,
   "id": "6a936fef",
   "metadata": {},
   "outputs": [
    {
     "name": "stdout",
     "output_type": "stream",
     "text": [
      "[[0. 0. 0.]\n",
      " [0. 0. 0.]\n",
      " [0. 0. 0.]\n",
      " [0. 0. 0.]\n",
      " [0. 0. 0.]]\n",
      "[[1. 1. 1. 1. 1.]\n",
      " [1. 1. 1. 1. 1.]\n",
      " [1. 1. 1. 1. 1.]]\n",
      "[[1. 0. 0. 0. 0.]\n",
      " [0. 1. 0. 0. 0.]\n",
      " [0. 0. 1. 0. 0.]\n",
      " [0. 0. 0. 1. 0.]\n",
      " [0. 0. 0. 0. 1.]]\n"
     ]
    }
   ],
   "source": [
    "mat2=np.zeros([5,3])\n",
    "print(mat2)\n",
    "mat3=np.ones([3,5])\n",
    "print(mat3)\n",
    "mat4=np.eye(5)\n",
    "print(mat4)"
   ]
  },
  {
   "cell_type": "code",
   "execution_count": 28,
   "id": "1a82a2b6",
   "metadata": {},
   "outputs": [
    {
     "name": "stdout",
     "output_type": "stream",
     "text": [
      "[ 4  6  8 10 12]\n",
      "[-2 -2 -2 -2 -2]\n",
      "[ 3  8 15 24 35]\n",
      "[1.         1.41421356 1.73205081 2.         2.23606798]\n"
     ]
    }
   ],
   "source": [
    "vec5=np.arange(1,6)\n",
    "vec6=np.arange(3,8)\n",
    "print(vec5+vec6)\n",
    "print(vec5-vec6)\n",
    "print(vec5*vec6)\n",
    "print(np.sqrt(vec5))"
   ]
  },
  {
   "cell_type": "code",
   "execution_count": 42,
   "id": "678b20e3",
   "metadata": {},
   "outputs": [
    {
     "name": "stdout",
     "output_type": "stream",
     "text": [
      "[[1 2 3]\n",
      " [4 5 6]\n",
      " [7 8 9]]\n",
      "[1 2 3]\n",
      "[14 32 50]\n"
     ]
    }
   ],
   "source": [
    "print(mat)\n",
    "print(vec)\n",
    "product=np.matmul(mat,vec)\n",
    "print(product)"
   ]
  },
  {
   "cell_type": "code",
   "execution_count": 43,
   "id": "ffc1d7e3",
   "metadata": {},
   "outputs": [
    {
     "name": "stdout",
     "output_type": "stream",
     "text": [
      "[-0.8  5.6  1.2]\n",
      "[[ 3.15251974e+15 -6.30503948e+15  3.15251974e+15]\n",
      " [-6.30503948e+15  1.26100790e+16 -6.30503948e+15]\n",
      " [ 3.15251974e+15 -6.30503948e+15  3.15251974e+15]]\n"
     ]
    }
   ],
   "source": [
    "print(np.linalg.solve(mat,product))\n",
    "print(np.linalg.inv(mat))"
   ]
  },
  {
   "cell_type": "code",
   "execution_count": 44,
   "id": "320b2ec6",
   "metadata": {},
   "outputs": [
    {
     "name": "stdout",
     "output_type": "stream",
     "text": [
      "[14. 32. 50.]\n"
     ]
    }
   ],
   "source": [
    "vec7=np.array([-0.8,5.6,1.2])\n",
    "print(np.matmul(mat,vec7))"
   ]
  },
  {
   "cell_type": "code",
   "execution_count": 52,
   "id": "caf71871",
   "metadata": {},
   "outputs": [
    {
     "name": "stdout",
     "output_type": "stream",
     "text": [
      "['6' 'blue' 'red' 'orange' 'purple' 'purple' 'orange' 'red']\n",
      "['6' 'blue' 'orange' 'purple' 'red']\n"
     ]
    }
   ],
   "source": [
    "vec8=np.array([6,'blue','red','orange','purple','purple','orange','red'])\n",
    "print(vec8)\n",
    "print(np.unique(vec8))"
   ]
  },
  {
   "cell_type": "code",
   "execution_count": 68,
   "id": "d95e437c",
   "metadata": {},
   "outputs": [
    {
     "name": "stdout",
     "output_type": "stream",
     "text": [
      "[[0.86333659 0.74978837 0.09614825 0.66195494 0.10516455]\n",
      " [0.60419974 0.3176832  0.48297625 0.59382585 0.59099605]\n",
      " [0.1207531  0.65642746 0.89979448 0.8688769  0.27412039]\n",
      " [0.01071822 0.00590807 0.7729457  0.11163334 0.8840309 ]\n",
      " [0.10276207 0.5298085  0.3416711  0.12306624 0.11134815]]\n",
      "[[-0.32500459  0.06658804  1.68250086  1.05824281  0.63640026]\n",
      " [ 1.65601563 -0.72067592  0.78554087 -0.71176497 -1.19900435]\n",
      " [ 1.39632693  0.47567229  0.28771661  0.17387139 -2.13781069]\n",
      " [-0.00665612  1.19069766 -0.24375117  0.32646463 -0.40530955]\n",
      " [-0.95511953 -0.13759716 -0.94137925  0.94705321 -0.96088929]\n",
      " [-0.30384973  1.63628661 -1.67297908  0.85370024 -0.76399409]\n",
      " [ 0.06550445 -0.4587955   0.73575462 -2.61943138 -0.15653993]\n",
      " [-1.01039869  0.58526592  1.12841823 -0.82216281 -0.04122669]\n",
      " [-0.37769269 -0.32252001  0.81490562 -0.81985752 -1.12666372]\n",
      " [-0.77127652  1.1572269  -0.98438519  0.10628464 -1.37879179]]\n"
     ]
    }
   ],
   "source": [
    "rand_mat=np.random.rand(5,5)\n",
    "print(rand_mat)\n",
    "rand_mat2=np.random.randn(10,5)\n",
    "print(rand_mat2)"
   ]
  },
  {
   "cell_type": "code",
   "execution_count": 69,
   "id": "e6ee3d30",
   "metadata": {},
   "outputs": [
    {
     "name": "stdout",
     "output_type": "stream",
     "text": [
      "0.4351975355336837\n",
      "0.3062387999629552\n"
     ]
    }
   ],
   "source": [
    "print(np.mean(rand_mat))\n",
    "print(np.std(rand_mat))"
   ]
  },
  {
   "cell_type": "code",
   "execution_count": 70,
   "id": "184ad7c2",
   "metadata": {},
   "outputs": [
    {
     "name": "stdout",
     "output_type": "stream",
     "text": [
      "0.005908065613693614\n",
      "1.6825008568331972\n"
     ]
    }
   ],
   "source": [
    "print(np.min(rand_mat))\n",
    "print(np.max(rand_mat2))"
   ]
  },
  {
   "cell_type": "code",
   "execution_count": 72,
   "id": "162e3d37",
   "metadata": {},
   "outputs": [
    {
     "name": "stdout",
     "output_type": "stream",
     "text": [
      "[-0.03921708 -0.30433427 -0.0307015   0.95807621 -0.37254393 -0.21246935\n",
      " -0.00888251  0.45120887  0.26310134 -0.47255714 -0.77637481  0.47231955\n",
      "  0.58523118 -0.43201398  1.11009826 -1.26162033  0.05264155 -0.23423574\n",
      " -1.01902612]\n"
     ]
    }
   ],
   "source": [
    "rand_vec=np.random.randn(19)\n",
    "print(rand_vec)"
   ]
  },
  {
   "cell_type": "code",
   "execution_count": 73,
   "id": "5227244d",
   "metadata": {},
   "outputs": [
    {
     "name": "stdout",
     "output_type": "stream",
     "text": [
      "-0.008882510076446224\n"
     ]
    }
   ],
   "source": [
    "print(rand_vec[6])"
   ]
  },
  {
   "cell_type": "code",
   "execution_count": 74,
   "id": "2ed3ffe6",
   "metadata": {},
   "outputs": [
    {
     "name": "stdout",
     "output_type": "stream",
     "text": [
      "[-0.37254393 -0.21246935 -0.00888251  0.45120887  0.26310134]\n"
     ]
    }
   ],
   "source": [
    "print(rand_vec[4:9])"
   ]
  },
  {
   "cell_type": "code",
   "execution_count": 76,
   "id": "d33c6f81",
   "metadata": {},
   "outputs": [
    {
     "name": "stdout",
     "output_type": "stream",
     "text": [
      "[ 0  3  6  9 12]\n",
      "[-0.03921708  0.95807621 -0.00888251 -0.47255714  0.58523118]\n"
     ]
    }
   ],
   "source": [
    "print(np.arange(0,15,3))\n",
    "print(rand_vec[np.arange(0,15,3)])"
   ]
  },
  {
   "cell_type": "code",
   "execution_count": 78,
   "id": "734c231d",
   "metadata": {},
   "outputs": [
    {
     "name": "stdout",
     "output_type": "stream",
     "text": [
      "[[0.86333659 0.74978837 0.09614825 0.66195494 0.10516455]\n",
      " [0.60419974 0.3176832  0.48297625 0.59382585 0.59099605]\n",
      " [0.1207531  0.65642746 0.89979448 0.8688769  0.27412039]\n",
      " [0.01071822 0.00590807 0.7729457  0.11163334 0.8840309 ]\n",
      " [0.10276207 0.5298085  0.3416711  0.12306624 0.11134815]]\n",
      "0.4829762506140999\n",
      "0.4829762506140999\n"
     ]
    }
   ],
   "source": [
    "print(rand_mat)\n",
    "print(rand_mat[1][2])\n",
    "print(rand_mat[1,2])\n"
   ]
  },
  {
   "cell_type": "code",
   "execution_count": 79,
   "id": "377c3472",
   "metadata": {},
   "outputs": [
    {
     "name": "stdout",
     "output_type": "stream",
     "text": [
      "[[0.74978837 0.09614825]\n",
      " [0.3176832  0.48297625]]\n"
     ]
    }
   ],
   "source": [
    "print(rand_mat[0:2,1:3])"
   ]
  },
  {
   "cell_type": "code",
   "execution_count": 87,
   "id": "63731c0c",
   "metadata": {},
   "outputs": [
    {
     "name": "stdout",
     "output_type": "stream",
     "text": [
      "[-0.03921708  5.          5.          5.         -0.37254393 -0.21246935\n",
      " -0.00888251  0.45120887  0.26310134 -0.47255714 -0.77637481  0.47231955\n",
      "  0.58523118 -0.43201398  1.11009826 -1.26162033  0.05264155 -0.23423574\n",
      " -1.01902612]\n",
      "[-0.03921708  5.          5.          5.         -0.37254393 -0.21246935\n",
      " -0.00888251  0.45120887  0.26310134 -0.47255714 -0.77637481  0.47231955\n",
      "  0.58523118 -0.43201398  1.11009826 -1.26162033  0.05264155 -0.23423574\n",
      " -1.01902612]\n",
      "[-3.92170756e-02  5.00000000e+00  8.00000000e+00  9.00000000e+00\n",
      " -3.72543925e-01 -2.12469350e-01 -8.88251008e-03  4.51208870e-01\n",
      "  2.63101340e-01 -4.72557141e-01 -7.76374807e-01  4.72319546e-01\n",
      "  5.85231180e-01 -4.32013981e-01  1.11009826e+00 -1.26162033e+00\n",
      "  5.26415543e-02 -2.34235736e-01 -1.01902612e+00]\n"
     ]
    }
   ],
   "source": [
    "print(rand_vec)\n",
    "rand_vec[1:4]=5\n",
    "print(rand_vec)\n",
    "rand_vec[2:4]=[8,9]\n",
    "print(rand_vec)"
   ]
  },
  {
   "cell_type": "code",
   "execution_count": 88,
   "id": "5e5983b5",
   "metadata": {},
   "outputs": [
    {
     "name": "stdout",
     "output_type": "stream",
     "text": [
      "[-2.11206423  1.09975064  0.27779429  0.04413951 -0.04980819 -0.74500308\n",
      " -0.04637968 -0.52025111  0.61628151  0.26122606  0.47873343  0.4049078\n",
      " -1.74350558  0.57092521 -0.83378494]\n",
      "[False  True  True  True False False False False  True  True  True  True\n",
      " False  True False]\n",
      "[1.09975064 0.27779429 0.04413951 0.61628151 0.26122606 0.47873343\n",
      " 0.4049078  0.57092521]\n"
     ]
    }
   ],
   "source": [
    "rand_vec=np.random.randn(15)\n",
    "print(rand_vec)\n",
    "print(rand_vec>0)\n",
    "print(rand_vec[rand_vec>0])"
   ]
  },
  {
   "cell_type": "code",
   "execution_count": 89,
   "id": "aff37280",
   "metadata": {},
   "outputs": [],
   "source": [
    "np.save(\"saved_file_name\",rand_mat2)"
   ]
  },
  {
   "cell_type": "code",
   "execution_count": 90,
   "id": "3a080cc0",
   "metadata": {},
   "outputs": [],
   "source": [
    "np.savez(\"zsaved_file_name\",rand_mat2=rand_mat2,rand_vec=rand_vec)"
   ]
  },
  {
   "cell_type": "code",
   "execution_count": 92,
   "id": "c2ed8599",
   "metadata": {},
   "outputs": [],
   "source": [
    "loaded_file=np.load(\"saved_file_name.npy\")\n",
    "loaded_file2=np.load(\"zsaved_file_name.npz\")"
   ]
  },
  {
   "cell_type": "code",
   "execution_count": 93,
   "id": "8f13739e",
   "metadata": {},
   "outputs": [
    {
     "name": "stdout",
     "output_type": "stream",
     "text": [
      "[[-0.32500459  0.06658804  1.68250086  1.05824281  0.63640026]\n",
      " [ 1.65601563 -0.72067592  0.78554087 -0.71176497 -1.19900435]\n",
      " [ 1.39632693  0.47567229  0.28771661  0.17387139 -2.13781069]\n",
      " [-0.00665612  1.19069766 -0.24375117  0.32646463 -0.40530955]\n",
      " [-0.95511953 -0.13759716 -0.94137925  0.94705321 -0.96088929]\n",
      " [-0.30384973  1.63628661 -1.67297908  0.85370024 -0.76399409]\n",
      " [ 0.06550445 -0.4587955   0.73575462 -2.61943138 -0.15653993]\n",
      " [-1.01039869  0.58526592  1.12841823 -0.82216281 -0.04122669]\n",
      " [-0.37769269 -0.32252001  0.81490562 -0.81985752 -1.12666372]\n",
      " [-0.77127652  1.1572269  -0.98438519  0.10628464 -1.37879179]]\n",
      "<numpy.lib.npyio.NpzFile object at 0x0000024F9C31DB20>\n"
     ]
    }
   ],
   "source": [
    "print(loaded_file)\n",
    "print(loaded_file2)"
   ]
  },
  {
   "cell_type": "code",
   "execution_count": 95,
   "id": "6efce4ee",
   "metadata": {},
   "outputs": [
    {
     "name": "stdout",
     "output_type": "stream",
     "text": [
      "[-2.11206423  1.09975064  0.27779429  0.04413951 -0.04980819 -0.74500308\n",
      " -0.04637968 -0.52025111  0.61628151  0.26122606  0.47873343  0.4049078\n",
      " -1.74350558  0.57092521 -0.83378494]\n"
     ]
    }
   ],
   "source": [
    "print(loaded_file2[\"rand_vec\"])"
   ]
  },
  {
   "cell_type": "code",
   "execution_count": null,
   "id": "3bcd84b8",
   "metadata": {},
   "outputs": [],
   "source": []
  },
  {
   "cell_type": "raw",
   "id": "e9f1fe46",
   "metadata": {},
   "source": [
    "np.savetxt(\"saved_text_file.txt\",rand_mat2,delimiter=',')"
   ]
  },
  {
   "cell_type": "code",
   "execution_count": 99,
   "id": "5fd48790",
   "metadata": {},
   "outputs": [
    {
     "name": "stdout",
     "output_type": "stream",
     "text": [
      "[[-0.32500459  0.06658804  1.68250086  1.05824281  0.63640026]\n",
      " [ 1.65601563 -0.72067592  0.78554087 -0.71176497 -1.19900435]\n",
      " [ 1.39632693  0.47567229  0.28771661  0.17387139 -2.13781069]\n",
      " [-0.00665612  1.19069766 -0.24375117  0.32646463 -0.40530955]\n",
      " [-0.95511953 -0.13759716 -0.94137925  0.94705321 -0.96088929]\n",
      " [-0.30384973  1.63628661 -1.67297908  0.85370024 -0.76399409]\n",
      " [ 0.06550445 -0.4587955   0.73575462 -2.61943138 -0.15653993]\n",
      " [-1.01039869  0.58526592  1.12841823 -0.82216281 -0.04122669]\n",
      " [-0.37769269 -0.32252001  0.81490562 -0.81985752 -1.12666372]\n",
      " [-0.77127652  1.1572269  -0.98438519  0.10628464 -1.37879179]]\n"
     ]
    }
   ],
   "source": [
    "np.savetxt(\"saved_text_file.txt\",rand_mat2,delimiter=',')\n",
    "rand_mat_txt=np.loadtxt(\"saved_text_file.txt\",delimiter=',')\n",
    "print(rand_mat_txt)"
   ]
  },
  {
   "cell_type": "code",
   "execution_count": null,
   "id": "d30d0bd4",
   "metadata": {},
   "outputs": [],
   "source": []
  }
 ],
 "metadata": {
  "kernelspec": {
   "display_name": "Python 3",
   "language": "python",
   "name": "python3"
  },
  "language_info": {
   "codemirror_mode": {
    "name": "ipython",
    "version": 3
   },
   "file_extension": ".py",
   "mimetype": "text/x-python",
   "name": "python",
   "nbconvert_exporter": "python",
   "pygments_lexer": "ipython3",
   "version": "3.8.8"
  }
 },
 "nbformat": 4,
 "nbformat_minor": 5
}
