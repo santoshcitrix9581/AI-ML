{
 "cells": [
  {
   "cell_type": "markdown",
   "id": "c4c879a6",
   "metadata": {},
   "source": [
    "# PART ONE\n",
    "\n",
    "# QUESTION: \n",
    "\n",
    "• DOMAIN: Entertainment\n",
    "\n",
    "• CONTEXT: Company X owns a movie application and repository which caters movie streaming to millions of users who on subscription basis. Company wants to automate the process of cast and crew information in each scene from a movie such that when a user pauses on the movie and clicks on cast information button, the app will show details of the actor in the scene. Company has an in-house computer vision and multimedia experts who need to detect faces from screen shots from the movie scene.\n",
    "\n",
    "• DATA DESCRIPTION: The dataset comprises of images and its mask where there is a human face.\n",
    "\n",
    "• PROJECT OBJECTIVE: Face detection from training images.\n",
    "\n",
    "    Steps and tasks: [ Total Score: points]\n",
    "        1. Import the dataset.\n",
    "        2. Create features (images) and labels (mask) using that data.\n",
    "        3. Mask detection model:\n",
    "            ● Design a face mask detection model.\n",
    "                Hint: Use U-net along with pre-trained transfer learning models\n",
    "            ● Design your own Dice Coe\"icient and Loss function.\n",
    "            ● Train, tune and test the model.\n",
    "            ● Evaluate the model using testing data.\n",
    "        4. Use the “Prediction image” as an input to your designed model and display the output of the image."
   ]
  },
  {
   "cell_type": "code",
   "execution_count": null,
   "id": "0762c5d6",
   "metadata": {},
   "outputs": [],
   "source": []
  }
 ],
 "metadata": {
  "kernelspec": {
   "display_name": "Python 3",
   "language": "python",
   "name": "python3"
  },
  "language_info": {
   "codemirror_mode": {
    "name": "ipython",
    "version": 3
   },
   "file_extension": ".py",
   "mimetype": "text/x-python",
   "name": "python",
   "nbconvert_exporter": "python",
   "pygments_lexer": "ipython3",
   "version": "3.8.8"
  }
 },
 "nbformat": 4,
 "nbformat_minor": 5
}
